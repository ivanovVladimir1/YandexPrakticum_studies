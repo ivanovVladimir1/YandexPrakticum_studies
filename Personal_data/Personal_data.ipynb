{
 "cells": [
  {
   "cell_type": "markdown",
   "metadata": {
    "toc": true
   },
   "source": [
    "<h1>Содержание<span class=\"tocSkip\"></span></h1>\n",
    "<div class=\"toc\"><ul class=\"toc-item\"><li><span><a href=\"#Загрузка-данных\" data-toc-modified-id=\"Загрузка-данных-1\"><span class=\"toc-item-num\">1&nbsp;&nbsp;</span>Загрузка данных</a></span><ul class=\"toc-item\"><li><span><a href=\"#Краткий-вывод\" data-toc-modified-id=\"Краткий-вывод-1.1\"><span class=\"toc-item-num\">1.1&nbsp;&nbsp;</span>Краткий вывод</a></span></li></ul></li><li><span><a href=\"#Умножение-матриц\" data-toc-modified-id=\"Умножение-матриц-2\"><span class=\"toc-item-num\">2&nbsp;&nbsp;</span>Умножение матриц</a></span><ul class=\"toc-item\"><li><span><a href=\"#Краткий-вывод\" data-toc-modified-id=\"Краткий-вывод-2.1\"><span class=\"toc-item-num\">2.1&nbsp;&nbsp;</span>Краткий вывод</a></span></li></ul></li><li><span><a href=\"#Алгоритм-преобразования\" data-toc-modified-id=\"Алгоритм-преобразования-3\"><span class=\"toc-item-num\">3&nbsp;&nbsp;</span>Алгоритм преобразования</a></span><ul class=\"toc-item\"><li><span><a href=\"#Краткий-вывод\" data-toc-modified-id=\"Краткий-вывод-3.1\"><span class=\"toc-item-num\">3.1&nbsp;&nbsp;</span>Краткий вывод</a></span></li></ul></li><li><span><a href=\"#Проверка-алгоритма\" data-toc-modified-id=\"Проверка-алгоритма-4\"><span class=\"toc-item-num\">4&nbsp;&nbsp;</span>Проверка алгоритма</a></span><ul class=\"toc-item\"><li><span><a href=\"#Краткий-вывод\" data-toc-modified-id=\"Краткий-вывод-4.1\"><span class=\"toc-item-num\">4.1&nbsp;&nbsp;</span>Краткий вывод</a></span></li></ul></li><li><span><a href=\"#Вывод\" data-toc-modified-id=\"Вывод-5\"><span class=\"toc-item-num\">5&nbsp;&nbsp;</span>Вывод</a></span></li><li><span><a href=\"#Чек-лист-проверки\" data-toc-modified-id=\"Чек-лист-проверки-6\"><span class=\"toc-item-num\">6&nbsp;&nbsp;</span>Чек-лист проверки</a></span></li></ul></div>"
   ]
  },
  {
   "cell_type": "markdown",
   "metadata": {},
   "source": [
    "# Защита персональных данных клиентов"
   ]
  },
  {
   "cell_type": "markdown",
   "metadata": {},
   "source": [
    "Вам нужно защитить данные клиентов страховой компании «Хоть потоп». Разработайте такой метод преобразования данных, чтобы по ним было сложно восстановить персональную информацию. Обоснуйте корректность его работы.\n",
    "\n",
    "Нужно защитить данные, чтобы при преобразовании качество моделей машинного обучения не ухудшилось. Подбирать наилучшую модель не требуется."
   ]
  },
  {
   "cell_type": "markdown",
   "metadata": {},
   "source": [
    "## Загрузка данных"
   ]
  },
  {
   "cell_type": "code",
   "execution_count": 85,
   "metadata": {},
   "outputs": [],
   "source": [
    "import matplotlib.pyplot as plt\n",
    "import numpy as np\n",
    "import pandas as pd\n",
    "import seaborn as sns\n",
    "from sklearn.linear_model import LinearRegression"
   ]
  },
  {
   "cell_type": "code",
   "execution_count": 86,
   "metadata": {},
   "outputs": [
    {
     "data": {
      "text/html": [
       "<div>\n",
       "<style scoped>\n",
       "    .dataframe tbody tr th:only-of-type {\n",
       "        vertical-align: middle;\n",
       "    }\n",
       "\n",
       "    .dataframe tbody tr th {\n",
       "        vertical-align: top;\n",
       "    }\n",
       "\n",
       "    .dataframe thead th {\n",
       "        text-align: right;\n",
       "    }\n",
       "</style>\n",
       "<table border=\"1\" class=\"dataframe\">\n",
       "  <thead>\n",
       "    <tr style=\"text-align: right;\">\n",
       "      <th></th>\n",
       "      <th>Пол</th>\n",
       "      <th>Возраст</th>\n",
       "      <th>Зарплата</th>\n",
       "      <th>Члены семьи</th>\n",
       "      <th>Страховые выплаты</th>\n",
       "    </tr>\n",
       "  </thead>\n",
       "  <tbody>\n",
       "    <tr>\n",
       "      <th>0</th>\n",
       "      <td>1</td>\n",
       "      <td>41.0</td>\n",
       "      <td>49600.0</td>\n",
       "      <td>1</td>\n",
       "      <td>0</td>\n",
       "    </tr>\n",
       "    <tr>\n",
       "      <th>1</th>\n",
       "      <td>0</td>\n",
       "      <td>46.0</td>\n",
       "      <td>38000.0</td>\n",
       "      <td>1</td>\n",
       "      <td>1</td>\n",
       "    </tr>\n",
       "    <tr>\n",
       "      <th>2</th>\n",
       "      <td>0</td>\n",
       "      <td>29.0</td>\n",
       "      <td>21000.0</td>\n",
       "      <td>0</td>\n",
       "      <td>0</td>\n",
       "    </tr>\n",
       "    <tr>\n",
       "      <th>3</th>\n",
       "      <td>0</td>\n",
       "      <td>21.0</td>\n",
       "      <td>41700.0</td>\n",
       "      <td>2</td>\n",
       "      <td>0</td>\n",
       "    </tr>\n",
       "    <tr>\n",
       "      <th>4</th>\n",
       "      <td>1</td>\n",
       "      <td>28.0</td>\n",
       "      <td>26100.0</td>\n",
       "      <td>0</td>\n",
       "      <td>0</td>\n",
       "    </tr>\n",
       "    <tr>\n",
       "      <th>5</th>\n",
       "      <td>1</td>\n",
       "      <td>43.0</td>\n",
       "      <td>41000.0</td>\n",
       "      <td>2</td>\n",
       "      <td>1</td>\n",
       "    </tr>\n",
       "    <tr>\n",
       "      <th>6</th>\n",
       "      <td>1</td>\n",
       "      <td>39.0</td>\n",
       "      <td>39700.0</td>\n",
       "      <td>2</td>\n",
       "      <td>0</td>\n",
       "    </tr>\n",
       "    <tr>\n",
       "      <th>7</th>\n",
       "      <td>1</td>\n",
       "      <td>25.0</td>\n",
       "      <td>38600.0</td>\n",
       "      <td>4</td>\n",
       "      <td>0</td>\n",
       "    </tr>\n",
       "    <tr>\n",
       "      <th>8</th>\n",
       "      <td>1</td>\n",
       "      <td>36.0</td>\n",
       "      <td>49700.0</td>\n",
       "      <td>1</td>\n",
       "      <td>0</td>\n",
       "    </tr>\n",
       "    <tr>\n",
       "      <th>9</th>\n",
       "      <td>1</td>\n",
       "      <td>32.0</td>\n",
       "      <td>51700.0</td>\n",
       "      <td>1</td>\n",
       "      <td>0</td>\n",
       "    </tr>\n",
       "  </tbody>\n",
       "</table>\n",
       "</div>"
      ],
      "text/plain": [
       "   Пол  Возраст  Зарплата  Члены семьи  Страховые выплаты\n",
       "0    1     41.0   49600.0            1                  0\n",
       "1    0     46.0   38000.0            1                  1\n",
       "2    0     29.0   21000.0            0                  0\n",
       "3    0     21.0   41700.0            2                  0\n",
       "4    1     28.0   26100.0            0                  0\n",
       "5    1     43.0   41000.0            2                  1\n",
       "6    1     39.0   39700.0            2                  0\n",
       "7    1     25.0   38600.0            4                  0\n",
       "8    1     36.0   49700.0            1                  0\n",
       "9    1     32.0   51700.0            1                  0"
      ]
     },
     "execution_count": 86,
     "metadata": {},
     "output_type": "execute_result"
    }
   ],
   "source": [
    "data = pd.read_csv('/datasets/insurance.csv')\n",
    "\n",
    "data.head(10)"
   ]
  },
  {
   "cell_type": "code",
   "execution_count": 87,
   "metadata": {},
   "outputs": [
    {
     "name": "stdout",
     "output_type": "stream",
     "text": [
      "<class 'pandas.core.frame.DataFrame'>\n",
      "RangeIndex: 5000 entries, 0 to 4999\n",
      "Data columns (total 5 columns):\n",
      " #   Column             Non-Null Count  Dtype  \n",
      "---  ------             --------------  -----  \n",
      " 0   Пол                5000 non-null   int64  \n",
      " 1   Возраст            5000 non-null   float64\n",
      " 2   Зарплата           5000 non-null   float64\n",
      " 3   Члены семьи        5000 non-null   int64  \n",
      " 4   Страховые выплаты  5000 non-null   int64  \n",
      "dtypes: float64(2), int64(3)\n",
      "memory usage: 195.4 KB\n"
     ]
    }
   ],
   "source": [
    "data.info()"
   ]
  },
  {
   "cell_type": "code",
   "execution_count": 88,
   "metadata": {},
   "outputs": [],
   "source": [
    "data = data.astype('int')"
   ]
  },
  {
   "cell_type": "code",
   "execution_count": 90,
   "metadata": {},
   "outputs": [
    {
     "data": {
      "text/html": [
       "<div>\n",
       "<style scoped>\n",
       "    .dataframe tbody tr th:only-of-type {\n",
       "        vertical-align: middle;\n",
       "    }\n",
       "\n",
       "    .dataframe tbody tr th {\n",
       "        vertical-align: top;\n",
       "    }\n",
       "\n",
       "    .dataframe thead th {\n",
       "        text-align: right;\n",
       "    }\n",
       "</style>\n",
       "<table border=\"1\" class=\"dataframe\">\n",
       "  <thead>\n",
       "    <tr style=\"text-align: right;\">\n",
       "      <th></th>\n",
       "      <th>Пол</th>\n",
       "      <th>Возраст</th>\n",
       "      <th>Зарплата</th>\n",
       "      <th>Члены семьи</th>\n",
       "      <th>Страховые выплаты</th>\n",
       "    </tr>\n",
       "  </thead>\n",
       "  <tbody>\n",
       "    <tr>\n",
       "      <th>count</th>\n",
       "      <td>5000.000000</td>\n",
       "      <td>5000.000000</td>\n",
       "      <td>5000.000000</td>\n",
       "      <td>5000.000000</td>\n",
       "      <td>5000.000000</td>\n",
       "    </tr>\n",
       "    <tr>\n",
       "      <th>mean</th>\n",
       "      <td>0.499000</td>\n",
       "      <td>30.952800</td>\n",
       "      <td>39916.359400</td>\n",
       "      <td>1.194200</td>\n",
       "      <td>0.148000</td>\n",
       "    </tr>\n",
       "    <tr>\n",
       "      <th>std</th>\n",
       "      <td>0.500049</td>\n",
       "      <td>8.440807</td>\n",
       "      <td>9900.082063</td>\n",
       "      <td>1.091387</td>\n",
       "      <td>0.463183</td>\n",
       "    </tr>\n",
       "    <tr>\n",
       "      <th>min</th>\n",
       "      <td>0.000000</td>\n",
       "      <td>18.000000</td>\n",
       "      <td>5300.000000</td>\n",
       "      <td>0.000000</td>\n",
       "      <td>0.000000</td>\n",
       "    </tr>\n",
       "    <tr>\n",
       "      <th>25%</th>\n",
       "      <td>0.000000</td>\n",
       "      <td>24.000000</td>\n",
       "      <td>33300.000000</td>\n",
       "      <td>0.000000</td>\n",
       "      <td>0.000000</td>\n",
       "    </tr>\n",
       "    <tr>\n",
       "      <th>50%</th>\n",
       "      <td>0.000000</td>\n",
       "      <td>30.000000</td>\n",
       "      <td>40200.000000</td>\n",
       "      <td>1.000000</td>\n",
       "      <td>0.000000</td>\n",
       "    </tr>\n",
       "    <tr>\n",
       "      <th>75%</th>\n",
       "      <td>1.000000</td>\n",
       "      <td>37.000000</td>\n",
       "      <td>46600.000000</td>\n",
       "      <td>2.000000</td>\n",
       "      <td>0.000000</td>\n",
       "    </tr>\n",
       "    <tr>\n",
       "      <th>max</th>\n",
       "      <td>1.000000</td>\n",
       "      <td>65.000000</td>\n",
       "      <td>79000.000000</td>\n",
       "      <td>6.000000</td>\n",
       "      <td>5.000000</td>\n",
       "    </tr>\n",
       "  </tbody>\n",
       "</table>\n",
       "</div>"
      ],
      "text/plain": [
       "               Пол      Возраст      Зарплата  Члены семьи  Страховые выплаты\n",
       "count  5000.000000  5000.000000   5000.000000  5000.000000        5000.000000\n",
       "mean      0.499000    30.952800  39916.359400     1.194200           0.148000\n",
       "std       0.500049     8.440807   9900.082063     1.091387           0.463183\n",
       "min       0.000000    18.000000   5300.000000     0.000000           0.000000\n",
       "25%       0.000000    24.000000  33300.000000     0.000000           0.000000\n",
       "50%       0.000000    30.000000  40200.000000     1.000000           0.000000\n",
       "75%       1.000000    37.000000  46600.000000     2.000000           0.000000\n",
       "max       1.000000    65.000000  79000.000000     6.000000           5.000000"
      ]
     },
     "execution_count": 90,
     "metadata": {},
     "output_type": "execute_result"
    }
   ],
   "source": [
    "data.describe()"
   ]
  },
  {
   "cell_type": "code",
   "execution_count": 91,
   "metadata": {},
   "outputs": [
    {
     "data": {
      "text/plain": [
       "array([[<AxesSubplot:title={'center':'Пол'}>,\n",
       "        <AxesSubplot:title={'center':'Возраст'}>],\n",
       "       [<AxesSubplot:title={'center':'Зарплата'}>,\n",
       "        <AxesSubplot:title={'center':'Члены семьи'}>],\n",
       "       [<AxesSubplot:title={'center':'Страховые выплаты'}>,\n",
       "        <AxesSubplot:>]], dtype=object)"
      ]
     },
     "execution_count": 91,
     "metadata": {},
     "output_type": "execute_result"
    },
    {
     "data": {
      "image/png": "[encoded data removed]",
      "text/plain": [
       "<Figure size 864x1080 with 6 Axes>"
      ]
     },
     "metadata": {
      "needs_background": "light"
     },
     "output_type": "display_data"
    }
   ],
   "source": [
    "data.hist(figsize=(12,15))"
   ]
  },
  {
   "cell_type": "code",
   "execution_count": 92,
   "metadata": {},
   "outputs": [
    {
     "data": {
      "image/png": "[encoded data removed]",
      "text/plain": [
       "<Figure size 504x504 with 1 Axes>"
      ]
     },
     "metadata": {
      "needs_background": "light"
     },
     "output_type": "display_data"
    },
    {
     "data": {
      "image/png": "[encoded data removed]",
      "text/plain": [
       "<Figure size 504x504 with 1 Axes>"
      ]
     },
     "metadata": {
      "needs_background": "light"
     },
     "output_type": "display_data"
    },
    {
     "data": {
      "image/png": "[encoded data removed]",
      "text/plain": [
       "<Figure size 504x504 with 1 Axes>"
      ]
     },
     "metadata": {
      "needs_background": "light"
     },
     "output_type": "display_data"
    },
    {
     "data": {
      "image/png": "[encoded data removed]",
      "text/plain": [
       "<Figure size 504x504 with 1 Axes>"
      ]
     },
     "metadata": {
      "needs_background": "light"
     },
     "output_type": "display_data"
    },
    {
     "data": {
      "image/png": "[encoded data removed]",
      "text/plain": [
       "<Figure size 504x504 with 1 Axes>"
      ]
     },
     "metadata": {
      "needs_background": "light"
     },
     "output_type": "display_data"
    }
   ],
   "source": [
    "for i in data.columns:\n",
    "    plt.figure(figsize=[7, 7])\n",
    "    plt.title(f'{i}')\n",
    "    sns.boxplot(orient='h', data=data[i])"
   ]
  },
  {
   "cell_type": "code",
   "execution_count": 93,
   "metadata": {},
   "outputs": [
    {
     "name": "stdout",
     "output_type": "stream",
     "text": [
      "Дубликатов найдено: 153\n"
     ]
    }
   ],
   "source": [
    "print('Дубликатов найдено:', data.duplicated().sum())"
   ]
  },
  {
   "cell_type": "code",
   "execution_count": 94,
   "metadata": {},
   "outputs": [],
   "source": [
    "data.drop_duplicates(inplace=True)"
   ]
  },
  {
   "cell_type": "code",
   "execution_count": 95,
   "metadata": {},
   "outputs": [],
   "source": [
    "data = data.reset_index(drop=True)"
   ]
  },
  {
   "cell_type": "code",
   "execution_count": 96,
   "metadata": {},
   "outputs": [
    {
     "name": "stdout",
     "output_type": "stream",
     "text": [
      "<class 'pandas.core.frame.DataFrame'>\n",
      "RangeIndex: 4847 entries, 0 to 4846\n",
      "Data columns (total 5 columns):\n",
      " #   Column             Non-Null Count  Dtype\n",
      "---  ------             --------------  -----\n",
      " 0   Пол                4847 non-null   int64\n",
      " 1   Возраст            4847 non-null   int64\n",
      " 2   Зарплата           4847 non-null   int64\n",
      " 3   Члены семьи        4847 non-null   int64\n",
      " 4   Страховые выплаты  4847 non-null   int64\n",
      "dtypes: int64(5)\n",
      "memory usage: 189.5 KB\n"
     ]
    }
   ],
   "source": [
    "data.info()"
   ]
  },
  {
   "cell_type": "markdown",
   "metadata": {},
   "source": [
    "### Краткий вывод\n",
    "\n",
    "Данные просмотрены, критических моментов нет.  \n",
    "Удалены явные дубликаты, тип данных приведен к адекватному."
   ]
  },
  {
   "cell_type": "markdown",
   "metadata": {},
   "source": [
    "## Умножение матриц"
   ]
  },
  {
   "cell_type": "markdown",
   "metadata": {},
   "source": [
    "В этом задании вы можете записывать формулы в *Jupyter Notebook.*\n",
    "\n",
    "Чтобы записать формулу внутри текста, окружите её символами доллара \\\\$; если снаружи —  двойными символами \\\\$\\\\$. Эти формулы записываются на языке вёрстки *LaTeX.* \n",
    "\n",
    "Для примера мы записали формулы линейной регрессии. Можете их скопировать и отредактировать, чтобы решить задачу.\n",
    "\n",
    "Работать в *LaTeX* необязательно."
   ]
  },
  {
   "cell_type": "markdown",
   "metadata": {},
   "source": [
    "Обозначения:\n",
    "\n",
    "- $X$ — матрица признаков (нулевой столбец состоит из единиц)\n",
    "\n",
    "- $y$ — вектор целевого признака\n",
    "\n",
    "- $P$ — матрица, на которую умножаются признаки\n",
    "\n",
    "- $w$ — вектор весов линейной регрессии (нулевой элемент равен сдвигу)"
   ]
  },
  {
   "cell_type": "markdown",
   "metadata": {},
   "source": [
    "Предсказания:\n",
    "\n",
    "$$\n",
    "a = Xw\n",
    "$$\n",
    "\n",
    "Задача обучения:\n",
    "\n",
    "$$\n",
    "w = \\arg\\min_w MSE(Xw, y)\n",
    "$$\n",
    "\n",
    "Формула обучения:\n",
    "\n",
    "$$\n",
    "w = (X^T X)^{-1} X^T y\n",
    "$$"
   ]
  },
  {
   "cell_type": "markdown",
   "metadata": {},
   "source": [
    " Признаки умножают на обратимую матрицу. Изменится ли качество линейной регрессии? "
   ]
  },
  {
   "cell_type": "markdown",
   "metadata": {},
   "source": [
    "**Ответ:** не изменится.\n",
    "\n",
    "**Обоснование:**"
   ]
  },
  {
   "cell_type": "markdown",
   "metadata": {},
   "source": [
    "Домножим матрицу признаков $X$ на обратимую матрицу $Z$:\n",
    "\n",
    "$$\n",
    "X_{д} = XZ\n",
    "$$\n",
    "\n",
    "Для новой матрицы $X_{д}$ исходные формулы будут иметь следующий вид:\n",
    "\n",
    "предсказания:\n",
    "\n",
    "$$\n",
    "a_{д} = X_{д}w\n",
    "$$\n",
    "\n",
    "Задача обучения:\n",
    "\n",
    "$$\n",
    "w_{д} = \\arg\\min_w MSE(X_{д}w, y)\n",
    "$$\n",
    "\n",
    "Формула обучения:\n",
    "\n",
    "$$\n",
    "w_{д} = (X_{д}^T X_{д})^{-1} X_{д}^T y\n",
    "$$"
   ]
  },
  {
   "cell_type": "markdown",
   "metadata": {},
   "source": [
    "<b>Правильный вариант (надеюсь (: )</b>\n",
    "\n",
    "Упростим формулу обучения, подставив $X_{д} = XZ$:\n",
    "\n",
    "$$\n",
    "w_{д} = ((XZ)^T XZ)^{-1} (XZ)^T y =\n",
    "$$  \n",
    "$$\n",
    "= ((Z^T X^T XZ)^{-1} (XZ)^T y =\n",
    "$$  \n",
    "$$\n",
    "= (X^T XZ)^{-1} (Z^T)^{-1} Z^T X^T y = \n",
    "$$\n",
    "$(a^{-1}a = E$ (свойство обратной матрицы), при умножении на единичную матрицу получаем исходную матрицу)\n",
    "\n",
    "$$\n",
    "= (X^T XZ)^{-1} X^T y =\n",
    "$$\n",
    "$$\n",
    "= Z^{-1} (X^T X)^{-1} X^T y\n",
    "$$"
   ]
  },
  {
   "cell_type": "markdown",
   "metadata": {},
   "source": [
    "Итого $$\n",
    "w_{д} = Z^{-1} (X^T X)^{-1} X^T y $$"
   ]
  },
  {
   "cell_type": "markdown",
   "metadata": {},
   "source": [
    "Так как $w = (X^T X)^{-1} X^T y$, то $w_{д} = Z^{-1}w$"
   ]
  },
  {
   "cell_type": "markdown",
   "metadata": {},
   "source": [
    "Рассчитаем предсказания. \n",
    "\n",
    "$$\n",
    "a_{д} = X_{д}w_{д} = XZZ^{-1}w = Xw\n",
    "$$\n",
    "(опять же по свойству обратной матрицы сокращаем $Z Z^{-1}$)."
   ]
  },
  {
   "cell_type": "markdown",
   "metadata": {},
   "source": [
    "### Краткий вывод\n",
    "\n",
    "При умножении признаков на обратимую матрицу предсказания не изменяются."
   ]
  },
  {
   "cell_type": "markdown",
   "metadata": {},
   "source": [
    "## Алгоритм преобразования"
   ]
  },
  {
   "cell_type": "markdown",
   "metadata": {},
   "source": [
    "**Алгоритм**\n",
    "\n",
    "Проверим теоретический расчет на практике. Качество линейной регрессии не должно измениться."
   ]
  },
  {
   "cell_type": "markdown",
   "metadata": {},
   "source": [
    "**Обоснование**"
   ]
  },
  {
   "cell_type": "code",
   "execution_count": 100,
   "metadata": {},
   "outputs": [],
   "source": [
    "features = data.drop('Страховые выплаты', axis=1)\n",
    "target = data['Страховые выплаты']"
   ]
  },
  {
   "cell_type": "markdown",
   "metadata": {},
   "source": [
    "Создадим обратную матрицу размерностью по исходному датафрейму."
   ]
  },
  {
   "cell_type": "code",
   "execution_count": 101,
   "metadata": {},
   "outputs": [],
   "source": [
    "z = np.random.randn(features.shape[1], features.shape[1])\n"
   ]
  },
  {
   "cell_type": "code",
   "execution_count": 102,
   "metadata": {},
   "outputs": [],
   "source": [
    "try:\n",
    "    z_inv = np.linalg.inv(z)\n",
    "except:\n",
    "    print('Обратной матрицы не существует')"
   ]
  },
  {
   "cell_type": "markdown",
   "metadata": {},
   "source": [
    "По формулам п. 2 рассчитаем результаты для исходной и домноженной матриц."
   ]
  },
  {
   "cell_type": "code",
   "execution_count": 103,
   "metadata": {},
   "outputs": [],
   "source": [
    "w_orig = np.linalg.inv(features.T.dot(features)).dot(features.T).dot(target)\n",
    "a_orig = features @ w_orig"
   ]
  },
  {
   "cell_type": "code",
   "execution_count": 104,
   "metadata": {},
   "outputs": [],
   "source": [
    "features_dot = features @ z\n",
    "w_dot = np.linalg.inv(features_dot.T.dot(features_dot)).dot(features_dot.T).dot(target)\n",
    "a_dot = features_dot @ w_dot"
   ]
  },
  {
   "cell_type": "code",
   "execution_count": 105,
   "metadata": {},
   "outputs": [
    {
     "data": {
      "text/html": [
       "<div>\n",
       "<style scoped>\n",
       "    .dataframe tbody tr th:only-of-type {\n",
       "        vertical-align: middle;\n",
       "    }\n",
       "\n",
       "    .dataframe tbody tr th {\n",
       "        vertical-align: top;\n",
       "    }\n",
       "\n",
       "    .dataframe thead th {\n",
       "        text-align: right;\n",
       "    }\n",
       "</style>\n",
       "<table border=\"1\" class=\"dataframe\">\n",
       "  <thead>\n",
       "    <tr style=\"text-align: right;\">\n",
       "      <th></th>\n",
       "      <th>a_orig</th>\n",
       "      <th>a_dot</th>\n",
       "      <th>a_orig - a_dot</th>\n",
       "    </tr>\n",
       "  </thead>\n",
       "  <tbody>\n",
       "    <tr>\n",
       "      <th>0</th>\n",
       "      <td>0.288795</td>\n",
       "      <td>0.288795</td>\n",
       "      <td>-2.425112e-08</td>\n",
       "    </tr>\n",
       "    <tr>\n",
       "      <th>1</th>\n",
       "      <td>0.588191</td>\n",
       "      <td>0.588191</td>\n",
       "      <td>-4.113808e-09</td>\n",
       "    </tr>\n",
       "    <tr>\n",
       "      <th>2</th>\n",
       "      <td>0.435566</td>\n",
       "      <td>0.435566</td>\n",
       "      <td>1.913292e-09</td>\n",
       "    </tr>\n",
       "    <tr>\n",
       "      <th>3</th>\n",
       "      <td>-0.092785</td>\n",
       "      <td>-0.092785</td>\n",
       "      <td>-1.638786e-08</td>\n",
       "    </tr>\n",
       "    <tr>\n",
       "      <th>4</th>\n",
       "      <td>0.307588</td>\n",
       "      <td>0.307588</td>\n",
       "      <td>-1.605171e-08</td>\n",
       "    </tr>\n",
       "    <tr>\n",
       "      <th>...</th>\n",
       "      <td>...</td>\n",
       "      <td>...</td>\n",
       "      <td>...</td>\n",
       "    </tr>\n",
       "    <tr>\n",
       "      <th>4842</th>\n",
       "      <td>0.143509</td>\n",
       "      <td>0.143509</td>\n",
       "      <td>-1.367749e-08</td>\n",
       "    </tr>\n",
       "    <tr>\n",
       "      <th>4843</th>\n",
       "      <td>0.134366</td>\n",
       "      <td>0.134366</td>\n",
       "      <td>-9.595272e-09</td>\n",
       "    </tr>\n",
       "    <tr>\n",
       "      <th>4844</th>\n",
       "      <td>-0.023962</td>\n",
       "      <td>-0.023962</td>\n",
       "      <td>-1.501676e-08</td>\n",
       "    </tr>\n",
       "    <tr>\n",
       "      <th>4845</th>\n",
       "      <td>-0.053629</td>\n",
       "      <td>-0.053629</td>\n",
       "      <td>-3.725867e-08</td>\n",
       "    </tr>\n",
       "    <tr>\n",
       "      <th>4846</th>\n",
       "      <td>0.088639</td>\n",
       "      <td>0.088639</td>\n",
       "      <td>-2.519284e-08</td>\n",
       "    </tr>\n",
       "  </tbody>\n",
       "</table>\n",
       "<p>4847 rows × 3 columns</p>\n",
       "</div>"
      ],
      "text/plain": [
       "        a_orig     a_dot  a_orig - a_dot\n",
       "0     0.288795  0.288795   -2.425112e-08\n",
       "1     0.588191  0.588191   -4.113808e-09\n",
       "2     0.435566  0.435566    1.913292e-09\n",
       "3    -0.092785 -0.092785   -1.638786e-08\n",
       "4     0.307588  0.307588   -1.605171e-08\n",
       "...        ...       ...             ...\n",
       "4842  0.143509  0.143509   -1.367749e-08\n",
       "4843  0.134366  0.134366   -9.595272e-09\n",
       "4844 -0.023962 -0.023962   -1.501676e-08\n",
       "4845 -0.053629 -0.053629   -3.725867e-08\n",
       "4846  0.088639  0.088639   -2.519284e-08\n",
       "\n",
       "[4847 rows x 3 columns]"
      ]
     },
     "execution_count": 105,
     "metadata": {},
     "output_type": "execute_result"
    }
   ],
   "source": [
    "pd.DataFrame({'a_orig': a_orig, 'a_dot': a_dot, 'a_orig - a_dot': a_orig - a_dot})"
   ]
  },
  {
   "cell_type": "code",
   "execution_count": 106,
   "metadata": {},
   "outputs": [
    {
     "name": "stdout",
     "output_type": "stream",
     "text": [
      "Средняя разница по предсказаниям оригинальной и домноженной матриц: -1.7282e-06 %\n"
     ]
    }
   ],
   "source": [
    "print('Средняя разница по предсказаниям оригинальной и домноженной матриц:', round(pd.DataFrame({'a_orig': a_orig, 'a_dot': a_dot, 'a_orig - a_dot': a_orig - a_dot})['a_orig - a_dot'].mean() * 100, 10), '%')"
   ]
  },
  {
   "cell_type": "markdown",
   "metadata": {},
   "source": [
    "### Краткий вывод\n",
    "\n",
    "Разница между предсказаниями — порядка $2 × 10^{-8}$ — незначительна. Можно считать, что предсказания идентичны"
   ]
  },
  {
   "cell_type": "markdown",
   "metadata": {},
   "source": [
    "## Проверка алгоритма"
   ]
  },
  {
   "cell_type": "code",
   "execution_count": 107,
   "metadata": {},
   "outputs": [],
   "source": [
    "model = LinearRegression()\n"
   ]
  },
  {
   "cell_type": "code",
   "execution_count": 108,
   "metadata": {},
   "outputs": [
    {
     "data": {
      "text/plain": [
       "LinearRegression()"
      ]
     },
     "execution_count": 108,
     "metadata": {},
     "output_type": "execute_result"
    }
   ],
   "source": [
    "model.fit(features, target)"
   ]
  },
  {
   "cell_type": "code",
   "execution_count": 109,
   "metadata": {},
   "outputs": [
    {
     "name": "stdout",
     "output_type": "stream",
     "text": [
      "Метрика оригинальной модели: 0.4302010046633359\n"
     ]
    }
   ],
   "source": [
    "score_original = model.score(features, target)\n",
    "print('Метрика оригинальной модели:', score_original)"
   ]
  },
  {
   "cell_type": "code",
   "execution_count": 110,
   "metadata": {},
   "outputs": [
    {
     "name": "stdout",
     "output_type": "stream",
     "text": [
      "Метрика оригинальной модели: 0.43020100466333355\n"
     ]
    }
   ],
   "source": [
    "model.fit(features_dot, target)\n",
    "\n",
    "score_dot = model.score(features_dot, target)\n",
    "print('Метрика оригинальной модели:', score_dot)"
   ]
  },
  {
   "cell_type": "code",
   "execution_count": 111,
   "metadata": {},
   "outputs": [
    {
     "name": "stdout",
     "output_type": "stream",
     "text": [
      "Разница метрик модели 2.3314683517128287e-15\n"
     ]
    }
   ],
   "source": [
    "print('Разница метрик модели', score_original - score_dot)"
   ]
  },
  {
   "cell_type": "markdown",
   "metadata": {},
   "source": [
    "### Краткий вывод\n",
    "\n",
    "Алгоритм проверен и соответствует теоретическому решению."
   ]
  },
  {
   "cell_type": "markdown",
   "metadata": {},
   "source": [
    "## Вывод\n",
    "\n",
    "Для защиты данных разработан алгоритм преобразования, не уцхудшающий качества работы модели линейной регрессии.  \n",
    "\n",
    "Исходные данные проверены, удалены явные дубликаты, тип данных приведен к адекватному.\n",
    "\n",
    "Теоретически подтвержден алгоритм преобразования данных, далее он же проверен на модели.\n",
    "\n",
    "Предсказания по оригинальным и модифицированным данным практически идентичны, средняя разница составляет $1.98 × 10^{-08}$ %.\n",
    "\n"
   ]
  }
 ],
 "metadata": {
  "ExecuteTimeLog": [
   {
    "duration": 361,
    "start_time": "2023-07-23T05:45:52.927Z"
   },
   {
    "duration": 88,
    "start_time": "2023-07-23T05:46:59.745Z"
   },
   {
    "duration": 40,
    "start_time": "2023-07-23T05:47:12.284Z"
   },
   {
    "duration": 52,
    "start_time": "2023-07-28T04:12:09.706Z"
   },
   {
    "duration": 401,
    "start_time": "2023-07-28T04:12:18.515Z"
   },
   {
    "duration": 89,
    "start_time": "2023-07-28T04:12:18.918Z"
   },
   {
    "duration": 12,
    "start_time": "2023-07-28T04:12:19.008Z"
   },
   {
    "duration": 13,
    "start_time": "2023-07-28T04:12:56.510Z"
   },
   {
    "duration": 10,
    "start_time": "2023-07-28T04:13:04.544Z"
   },
   {
    "duration": 4,
    "start_time": "2023-07-28T04:13:19.667Z"
   },
   {
    "duration": 23,
    "start_time": "2023-07-28T04:13:27.708Z"
   },
   {
    "duration": 939,
    "start_time": "2023-07-28T04:14:31.204Z"
   },
   {
    "duration": 707,
    "start_time": "2023-07-28T04:14:46.397Z"
   },
   {
    "duration": 1110,
    "start_time": "2023-07-28T04:16:08.839Z"
   },
   {
    "duration": 9,
    "start_time": "2023-07-28T04:16:14.518Z"
   },
   {
    "duration": 119,
    "start_time": "2023-07-28T04:16:42.911Z"
   },
   {
    "duration": 15,
    "start_time": "2023-07-28T04:18:11.926Z"
   },
   {
    "duration": 24,
    "start_time": "2023-07-28T04:18:23.291Z"
   },
   {
    "duration": 4,
    "start_time": "2023-07-28T04:18:33.176Z"
   },
   {
    "duration": 10,
    "start_time": "2023-07-28T04:18:37.704Z"
   },
   {
    "duration": 9,
    "start_time": "2023-07-28T04:18:55.453Z"
   },
   {
    "duration": 3,
    "start_time": "2023-07-28T04:18:58.452Z"
   },
   {
    "duration": 4,
    "start_time": "2023-07-28T04:18:58.668Z"
   },
   {
    "duration": 9,
    "start_time": "2023-07-28T04:18:59.205Z"
   },
   {
    "duration": 4,
    "start_time": "2023-07-28T04:19:07.608Z"
   },
   {
    "duration": 8,
    "start_time": "2023-07-28T04:19:08.192Z"
   },
   {
    "duration": 9,
    "start_time": "2023-07-28T04:19:19.642Z"
   },
   {
    "duration": 17,
    "start_time": "2023-07-28T04:19:27.638Z"
   },
   {
    "duration": 12,
    "start_time": "2023-07-28T04:20:22.641Z"
   },
   {
    "duration": 6,
    "start_time": "2023-07-28T04:20:27.327Z"
   },
   {
    "duration": 9,
    "start_time": "2023-07-28T04:23:53.204Z"
   },
   {
    "duration": 7,
    "start_time": "2023-07-28T04:24:23.412Z"
   },
   {
    "duration": 5,
    "start_time": "2023-07-28T04:24:27.836Z"
   },
   {
    "duration": 11,
    "start_time": "2023-07-28T04:24:54.259Z"
   },
   {
    "duration": 5,
    "start_time": "2023-07-28T04:25:03.159Z"
   },
   {
    "duration": 12,
    "start_time": "2023-07-28T04:25:11.957Z"
   },
   {
    "duration": 223,
    "start_time": "2023-07-28T12:25:39.137Z"
   },
   {
    "duration": 158,
    "start_time": "2023-07-28T12:26:12.334Z"
   },
   {
    "duration": 550,
    "start_time": "2023-07-28T12:26:19.488Z"
   },
   {
    "duration": 9,
    "start_time": "2023-07-28T12:26:39.558Z"
   },
   {
    "duration": 9,
    "start_time": "2023-07-28T12:27:25.248Z"
   },
   {
    "duration": 57,
    "start_time": "2023-07-28T12:28:30.113Z"
   },
   {
    "duration": 14,
    "start_time": "2023-07-28T12:28:37.342Z"
   },
   {
    "duration": 9,
    "start_time": "2023-07-28T12:28:48.188Z"
   },
   {
    "duration": 116,
    "start_time": "2023-07-28T12:29:19.508Z"
   },
   {
    "duration": 9,
    "start_time": "2023-07-28T12:29:51.518Z"
   },
   {
    "duration": 10,
    "start_time": "2023-07-28T12:30:15.235Z"
   },
   {
    "duration": 4,
    "start_time": "2023-07-28T12:30:20.644Z"
   },
   {
    "duration": 234,
    "start_time": "2023-07-28T12:30:25.717Z"
   },
   {
    "duration": 220,
    "start_time": "2023-07-28T12:30:38.040Z"
   },
   {
    "duration": 145,
    "start_time": "2023-07-28T12:30:46.339Z"
   },
   {
    "duration": 149,
    "start_time": "2023-07-28T12:31:03.760Z"
   },
   {
    "duration": 13,
    "start_time": "2023-07-28T12:31:39.635Z"
   },
   {
    "duration": 502,
    "start_time": "2023-07-28T12:31:44.910Z"
   },
   {
    "duration": 606,
    "start_time": "2023-07-28T12:39:11.002Z"
   },
   {
    "duration": 72,
    "start_time": "2023-07-29T08:11:16.759Z"
   },
   {
    "duration": 2069,
    "start_time": "2023-07-29T08:11:24.420Z"
   },
   {
    "duration": 113,
    "start_time": "2023-07-29T08:11:26.492Z"
   },
   {
    "duration": 23,
    "start_time": "2023-07-29T08:11:26.619Z"
   },
   {
    "duration": 3,
    "start_time": "2023-07-29T08:11:26.644Z"
   },
   {
    "duration": 26,
    "start_time": "2023-07-29T08:11:26.650Z"
   },
   {
    "duration": 872,
    "start_time": "2023-07-29T08:11:26.678Z"
   },
   {
    "duration": 715,
    "start_time": "2023-07-29T08:11:27.552Z"
   },
   {
    "duration": 7,
    "start_time": "2023-07-29T08:11:28.269Z"
   },
   {
    "duration": 15,
    "start_time": "2023-07-29T08:11:28.277Z"
   },
   {
    "duration": 12,
    "start_time": "2023-07-29T08:11:28.294Z"
   },
   {
    "duration": 4,
    "start_time": "2023-07-29T08:11:28.311Z"
   },
   {
    "duration": 4,
    "start_time": "2023-07-29T08:11:28.317Z"
   },
   {
    "duration": 12,
    "start_time": "2023-07-29T08:11:28.327Z"
   },
   {
    "duration": 9,
    "start_time": "2023-07-29T08:11:28.341Z"
   },
   {
    "duration": 81,
    "start_time": "2023-07-29T08:11:28.352Z"
   },
   {
    "duration": 5,
    "start_time": "2023-07-29T08:11:39.539Z"
   },
   {
    "duration": 6,
    "start_time": "2023-07-29T08:12:17.423Z"
   },
   {
    "duration": 335,
    "start_time": "2023-07-29T08:12:18.123Z"
   },
   {
    "duration": 15,
    "start_time": "2023-07-29T08:12:24.619Z"
   },
   {
    "duration": 119,
    "start_time": "2023-07-29T08:12:25.351Z"
   },
   {
    "duration": 4,
    "start_time": "2023-07-29T08:12:50.615Z"
   },
   {
    "duration": 150,
    "start_time": "2023-07-29T08:12:51.349Z"
   },
   {
    "duration": 9,
    "start_time": "2023-07-29T08:12:55.706Z"
   },
   {
    "duration": 318,
    "start_time": "2023-07-29T08:12:56.331Z"
   },
   {
    "duration": 4,
    "start_time": "2023-07-29T08:13:03.607Z"
   },
   {
    "duration": 17,
    "start_time": "2023-07-29T08:13:05.020Z"
   },
   {
    "duration": 6,
    "start_time": "2023-07-29T08:13:12.313Z"
   },
   {
    "duration": 7,
    "start_time": "2023-07-29T08:13:18.885Z"
   },
   {
    "duration": 113,
    "start_time": "2023-07-29T08:14:26.930Z"
   },
   {
    "duration": 3,
    "start_time": "2023-07-29T08:14:48.448Z"
   },
   {
    "duration": 3,
    "start_time": "2023-07-29T08:14:49.082Z"
   },
   {
    "duration": 11,
    "start_time": "2023-07-29T08:14:53.785Z"
   },
   {
    "duration": 9,
    "start_time": "2023-07-29T08:14:54.611Z"
   },
   {
    "duration": 837,
    "start_time": "2023-07-29T08:14:59.080Z"
   },
   {
    "duration": 26221,
    "start_time": "2023-07-29T08:14:59.924Z"
   },
   {
    "duration": 38,
    "start_time": "2023-07-29T08:17:39.608Z"
   },
   {
    "duration": 10,
    "start_time": "2023-07-29T08:17:49.133Z"
   },
   {
    "duration": 13,
    "start_time": "2023-07-29T08:19:02.166Z"
   },
   {
    "duration": 3,
    "start_time": "2023-07-29T08:19:13.112Z"
   },
   {
    "duration": 7,
    "start_time": "2023-07-29T08:19:13.480Z"
   },
   {
    "duration": 9,
    "start_time": "2023-07-29T08:19:14.742Z"
   },
   {
    "duration": 8,
    "start_time": "2023-07-29T08:19:15.464Z"
   },
   {
    "duration": 11,
    "start_time": "2023-07-29T08:21:21.443Z"
   },
   {
    "duration": 16,
    "start_time": "2023-07-29T08:21:27.254Z"
   },
   {
    "duration": 4,
    "start_time": "2023-07-29T08:21:41.954Z"
   },
   {
    "duration": 6,
    "start_time": "2023-07-29T08:21:47.567Z"
   },
   {
    "duration": 6,
    "start_time": "2023-07-29T08:21:53.149Z"
   },
   {
    "duration": 15,
    "start_time": "2023-07-29T08:22:08.025Z"
   },
   {
    "duration": 8,
    "start_time": "2023-07-29T08:23:10.581Z"
   },
   {
    "duration": 5,
    "start_time": "2023-07-29T08:24:18.545Z"
   },
   {
    "duration": 6,
    "start_time": "2023-07-29T08:24:29.262Z"
   },
   {
    "duration": 7,
    "start_time": "2023-07-29T08:25:51.585Z"
   },
   {
    "duration": 6,
    "start_time": "2023-07-29T08:25:59.771Z"
   },
   {
    "duration": 6,
    "start_time": "2023-07-29T08:26:05.638Z"
   },
   {
    "duration": 11,
    "start_time": "2023-07-29T08:26:09.634Z"
   },
   {
    "duration": 6,
    "start_time": "2023-07-29T08:26:16.268Z"
   },
   {
    "duration": 13,
    "start_time": "2023-07-29T08:26:24.628Z"
   },
   {
    "duration": 7,
    "start_time": "2023-07-29T08:29:21.473Z"
   },
   {
    "duration": 21,
    "start_time": "2023-07-29T08:30:34.647Z"
   },
   {
    "duration": 7,
    "start_time": "2023-07-29T08:31:15.661Z"
   },
   {
    "duration": 3,
    "start_time": "2023-07-29T08:38:56.528Z"
   },
   {
    "duration": 41,
    "start_time": "2023-07-29T08:38:56.533Z"
   },
   {
    "duration": 11,
    "start_time": "2023-07-29T08:38:56.575Z"
   },
   {
    "duration": 55,
    "start_time": "2023-07-29T08:38:56.592Z"
   },
   {
    "duration": 44,
    "start_time": "2023-07-29T08:38:56.649Z"
   },
   {
    "duration": 779,
    "start_time": "2023-07-29T08:38:56.696Z"
   },
   {
    "duration": 598,
    "start_time": "2023-07-29T08:38:57.477Z"
   },
   {
    "duration": 25,
    "start_time": "2023-07-29T08:38:58.076Z"
   },
   {
    "duration": 20,
    "start_time": "2023-07-29T08:38:58.104Z"
   },
   {
    "duration": 21,
    "start_time": "2023-07-29T08:38:58.127Z"
   },
   {
    "duration": 4,
    "start_time": "2023-07-29T08:38:58.150Z"
   },
   {
    "duration": 17,
    "start_time": "2023-07-29T08:38:58.155Z"
   },
   {
    "duration": 29,
    "start_time": "2023-07-29T08:38:58.174Z"
   },
   {
    "duration": 94,
    "start_time": "2023-07-29T08:38:58.206Z"
   },
   {
    "duration": 20,
    "start_time": "2023-07-29T08:38:58.301Z"
   },
   {
    "duration": 165,
    "start_time": "2023-07-29T08:38:58.329Z"
   },
   {
    "duration": 25,
    "start_time": "2023-07-29T08:38:58.496Z"
   },
   {
    "duration": 19,
    "start_time": "2023-07-29T08:38:58.526Z"
   },
   {
    "duration": 38,
    "start_time": "2023-07-29T08:38:58.547Z"
   },
   {
    "duration": 52,
    "start_time": "2023-07-29T08:38:58.586Z"
   },
   {
    "duration": 39,
    "start_time": "2023-07-29T08:38:58.690Z"
   },
   {
    "duration": 72,
    "start_time": "2023-07-29T08:38:58.734Z"
   },
   {
    "duration": 4237,
    "start_time": "2023-07-29T09:14:43.059Z"
   },
   {
    "duration": 87,
    "start_time": "2023-07-29T09:14:47.298Z"
   },
   {
    "duration": 12,
    "start_time": "2023-07-29T09:14:47.387Z"
   },
   {
    "duration": 4,
    "start_time": "2023-07-29T09:14:51.610Z"
   },
   {
    "duration": 11,
    "start_time": "2023-07-29T09:14:54.226Z"
   },
   {
    "duration": 2119,
    "start_time": "2023-07-29T09:15:10.863Z"
   },
   {
    "duration": 49,
    "start_time": "2023-07-29T09:15:12.984Z"
   },
   {
    "duration": 18,
    "start_time": "2023-07-29T09:15:13.035Z"
   },
   {
    "duration": 39,
    "start_time": "2023-07-29T09:15:13.055Z"
   },
   {
    "duration": 12,
    "start_time": "2023-07-29T09:15:13.256Z"
   },
   {
    "duration": 35,
    "start_time": "2023-07-29T09:15:17.882Z"
   },
   {
    "duration": 662,
    "start_time": "2023-07-29T09:15:18.610Z"
   },
   {
    "duration": 628,
    "start_time": "2023-07-29T09:15:19.441Z"
   },
   {
    "duration": 7,
    "start_time": "2023-07-29T09:15:20.734Z"
   },
   {
    "duration": 7,
    "start_time": "2023-07-29T09:15:24.948Z"
   },
   {
    "duration": 13,
    "start_time": "2023-07-29T09:15:26.253Z"
   },
   {
    "duration": 3,
    "start_time": "2023-07-29T09:16:26.121Z"
   },
   {
    "duration": 55,
    "start_time": "2023-07-29T09:16:26.126Z"
   },
   {
    "duration": 15,
    "start_time": "2023-07-29T09:16:26.183Z"
   },
   {
    "duration": 9,
    "start_time": "2023-07-29T09:16:26.200Z"
   },
   {
    "duration": 25,
    "start_time": "2023-07-29T09:16:26.212Z"
   },
   {
    "duration": 29,
    "start_time": "2023-07-29T09:16:26.239Z"
   },
   {
    "duration": 714,
    "start_time": "2023-07-29T09:16:26.270Z"
   },
   {
    "duration": 599,
    "start_time": "2023-07-29T09:16:26.986Z"
   },
   {
    "duration": 6,
    "start_time": "2023-07-29T09:16:27.588Z"
   },
   {
    "duration": 11,
    "start_time": "2023-07-29T09:16:31.910Z"
   },
   {
    "duration": 6,
    "start_time": "2023-07-29T09:16:34.747Z"
   },
   {
    "duration": 11,
    "start_time": "2023-07-29T09:16:35.525Z"
   },
   {
    "duration": 8,
    "start_time": "2023-07-29T09:17:48.105Z"
   },
   {
    "duration": 4,
    "start_time": "2023-07-29T09:18:00.645Z"
   },
   {
    "duration": 39,
    "start_time": "2023-07-29T09:18:00.828Z"
   },
   {
    "duration": 17,
    "start_time": "2023-07-29T09:18:02.204Z"
   },
   {
    "duration": 4,
    "start_time": "2023-07-29T09:18:05.213Z"
   },
   {
    "duration": 7,
    "start_time": "2023-07-29T09:18:06.584Z"
   },
   {
    "duration": 15,
    "start_time": "2023-07-29T09:18:43.565Z"
   },
   {
    "duration": 8,
    "start_time": "2023-07-29T09:18:52.856Z"
   },
   {
    "duration": 8,
    "start_time": "2023-07-29T09:18:57.864Z"
   },
   {
    "duration": 10,
    "start_time": "2023-07-29T09:19:00.669Z"
   },
   {
    "duration": 15,
    "start_time": "2023-07-29T09:19:13.775Z"
   },
   {
    "duration": 7,
    "start_time": "2023-07-29T09:19:16.165Z"
   },
   {
    "duration": 11,
    "start_time": "2023-07-29T09:19:18.109Z"
   },
   {
    "duration": 4,
    "start_time": "2023-07-29T09:19:25.350Z"
   },
   {
    "duration": 12,
    "start_time": "2023-07-29T09:19:27.239Z"
   },
   {
    "duration": 8,
    "start_time": "2023-07-29T09:19:28.511Z"
   },
   {
    "duration": 2324,
    "start_time": "2023-07-29T09:27:51.633Z"
   },
   {
    "duration": 42,
    "start_time": "2023-07-29T09:27:53.959Z"
   },
   {
    "duration": 17,
    "start_time": "2023-07-29T09:27:54.004Z"
   },
   {
    "duration": 4,
    "start_time": "2023-07-29T09:27:54.986Z"
   },
   {
    "duration": 7,
    "start_time": "2023-07-29T09:28:10.798Z"
   },
   {
    "duration": 27,
    "start_time": "2023-07-29T09:28:11.358Z"
   },
   {
    "duration": 696,
    "start_time": "2023-07-29T09:28:11.688Z"
   },
   {
    "duration": 655,
    "start_time": "2023-07-29T09:28:12.386Z"
   },
   {
    "duration": 8,
    "start_time": "2023-07-29T09:28:13.103Z"
   },
   {
    "duration": 6,
    "start_time": "2023-07-29T09:28:17.957Z"
   },
   {
    "duration": 12,
    "start_time": "2023-07-29T09:28:22.163Z"
   },
   {
    "duration": 6,
    "start_time": "2023-07-29T09:28:25.497Z"
   },
   {
    "duration": 7,
    "start_time": "2023-07-29T09:28:46.922Z"
   },
   {
    "duration": 12,
    "start_time": "2023-07-29T09:28:47.705Z"
   },
   {
    "duration": 79,
    "start_time": "2023-07-29T09:39:39.818Z"
   },
   {
    "duration": 3,
    "start_time": "2023-07-29T11:05:32.968Z"
   },
   {
    "duration": 55,
    "start_time": "2023-07-29T11:05:32.974Z"
   },
   {
    "duration": 12,
    "start_time": "2023-07-29T11:05:33.031Z"
   },
   {
    "duration": 6,
    "start_time": "2023-07-29T11:05:33.044Z"
   },
   {
    "duration": 7,
    "start_time": "2023-07-29T11:05:33.052Z"
   },
   {
    "duration": 25,
    "start_time": "2023-07-29T11:05:33.060Z"
   },
   {
    "duration": 662,
    "start_time": "2023-07-29T11:05:33.094Z"
   },
   {
    "duration": 644,
    "start_time": "2023-07-29T11:05:33.757Z"
   },
   {
    "duration": 6,
    "start_time": "2023-07-29T11:05:34.403Z"
   },
   {
    "duration": 18,
    "start_time": "2023-07-29T11:05:34.410Z"
   },
   {
    "duration": 4,
    "start_time": "2023-07-29T11:05:34.430Z"
   },
   {
    "duration": 11,
    "start_time": "2023-07-29T11:05:34.436Z"
   },
   {
    "duration": 12,
    "start_time": "2023-07-29T11:05:34.449Z"
   },
   {
    "duration": 7,
    "start_time": "2023-07-29T11:05:34.464Z"
   },
   {
    "duration": 22,
    "start_time": "2023-07-29T11:05:34.473Z"
   },
   {
    "duration": 12,
    "start_time": "2023-07-29T11:05:34.498Z"
   },
   {
    "duration": 13,
    "start_time": "2023-07-29T11:05:34.512Z"
   },
   {
    "duration": 12,
    "start_time": "2023-07-29T11:05:34.527Z"
   },
   {
    "duration": 61,
    "start_time": "2023-07-29T11:05:34.541Z"
   },
   {
    "duration": 90,
    "start_time": "2023-07-29T11:05:34.604Z"
   },
   {
    "duration": 101,
    "start_time": "2023-07-29T11:05:34.697Z"
   },
   {
    "duration": 92,
    "start_time": "2023-07-29T11:05:34.801Z"
   },
   {
    "duration": 12,
    "start_time": "2023-07-29T11:05:34.895Z"
   },
   {
    "duration": 10,
    "start_time": "2023-07-29T11:05:34.910Z"
   },
   {
    "duration": 9,
    "start_time": "2023-07-29T11:05:34.922Z"
   },
   {
    "duration": 99,
    "start_time": "2023-07-29T11:05:35.005Z"
   },
   {
    "duration": 188,
    "start_time": "2023-07-29T11:05:35.109Z"
   }
  ],
  "kernelspec": {
   "display_name": "Python 3 (ipykernel)",
   "language": "python",
   "name": "python3"
  },
  "language_info": {
   "codemirror_mode": {
    "name": "ipython",
    "version": 3
   },
   "file_extension": ".py",
   "mimetype": "text/x-python",
   "name": "python",
   "nbconvert_exporter": "python",
   "pygments_lexer": "ipython3",
   "version": "3.9.5"
  },
  "toc": {
   "base_numbering": 1,
   "nav_menu": {},
   "number_sections": true,
   "sideBar": true,
   "skip_h1_title": true,
   "title_cell": "Содержание",
   "title_sidebar": "Contents",
   "toc_cell": true,
   "toc_position": {
    "height": "calc(100% - 180px)",
    "left": "10px",
    "top": "150px",
    "width": "465.455px"
   },
   "toc_section_display": true,
   "toc_window_display": true
  }
 },
 "nbformat": 4,
 "nbformat_minor": 2
}
